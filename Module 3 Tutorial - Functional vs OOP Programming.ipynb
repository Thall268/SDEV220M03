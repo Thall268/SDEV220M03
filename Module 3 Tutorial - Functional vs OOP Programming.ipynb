{
 "cells": [
  {
   "cell_type": "code",
   "id": "initial_id",
   "metadata": {
    "collapsed": true
   },
   "source": [
    "def sort012(arr):\n",
    "    low = 0\n",
    "    mid = 0\n",
    "    high = len(arr) - 1\n",
    "\n",
    "    while mid <= high:\n",
    "        if arr[mid] == 0:\n",
    "            arr[low], arr[mid] = arr[mid], arr[low]\n",
    "            low += 1\n",
    "            mid += 1\n",
    "        elif arr[mid] == 1:\n",
    "            mid += 1\n",
    "        else:  # arr[mid] == 2\n",
    "            arr[mid], arr[high] = arr[high], arr[mid]\n",
    "            high -= 1\n",
    "\n",
    "    return arr\n",
    "\n",
    "if __name__ == \"main\":\n",
    "    t = int(input())\n",
    "    for _ in range(t):\n",
    "        arr = list(map(int, input().strip().split()))\n",
    "        sorted_arr = sort012(arr)\n",
    "        print(\" \".join(map(str, sorted_arr)))\n",
    "        print(\"~\")\n",
    "\n"
   ],
   "outputs": [],
   "execution_count": null
  },
  {
   "metadata": {},
   "cell_type": "markdown",
   "source": "",
   "id": "b1e2bc53a7197c94"
  },
  {
   "metadata": {},
   "cell_type": "code",
   "source": [
    "def find_first_occurrence(arr, k):\n",
    "    low = 0\n",
    "    high = len(arr) - 1\n",
    "    result = -1  # Default if k is not found\n",
    "\n",
    "    while low <= high:\n",
    "        mid = (low + high) // 2\n",
    "\n",
    "        if arr[mid] == k:\n",
    "            result = mid\n",
    "            high = mid - 1  # Move left to find earlier occurrence\n",
    "        elif arr[mid] < k:\n",
    "            low = mid + 1\n",
    "        else:\n",
    "            high = mid - 1\n",
    "\n",
    "    return result\n"
   ],
   "id": "b0937e3e1f627b19",
   "outputs": [],
   "execution_count": null
  }
 ],
 "metadata": {
  "kernelspec": {
   "display_name": "Python 3",
   "language": "python",
   "name": "python3"
  },
  "language_info": {
   "codemirror_mode": {
    "name": "ipython",
    "version": 2
   },
   "file_extension": ".py",
   "mimetype": "text/x-python",
   "name": "python",
   "nbconvert_exporter": "python",
   "pygments_lexer": "ipython2",
   "version": "2.7.6"
  }
 },
 "nbformat": 4,
 "nbformat_minor": 5
}
