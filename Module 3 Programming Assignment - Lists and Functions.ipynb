{
 "cells": [
  {
   "cell_type": "code",
   "id": "initial_id",
   "metadata": {
    "collapsed": true,
    "ExecuteTime": {
     "end_time": "2025-03-31T01:48:23.278424Z",
     "start_time": "2025-03-31T01:48:23.275060Z"
    }
   },
   "source": [
    "# 7.4 Create List\n",
    "things = [\"mozzarella\", \"cinderella\", \"salmonella\"]\n",
    "print(things)\n"
   ],
   "outputs": [
    {
     "name": "stdout",
     "output_type": "stream",
     "text": [
      "['mozzarella', 'cinderella', 'salmonella']\n"
     ]
    }
   ],
   "execution_count": 1
  },
  {
   "metadata": {},
   "cell_type": "markdown",
   "source": "",
   "id": "577dbb264187fee9"
  },
  {
   "metadata": {},
   "cell_type": "markdown",
   "source": "",
   "id": "8f97cdbe478fa61c"
  },
  {
   "metadata": {
    "ExecuteTime": {
     "end_time": "2025-03-31T01:48:29.025199Z",
     "start_time": "2025-03-31T01:48:29.022266Z"
    }
   },
   "cell_type": "code",
   "source": [
    "# 7.5 Capitalize\n",
    "things[1] = things[1].capitalize()\n",
    "print(things)"
   ],
   "id": "a8e36abe3b22342c",
   "outputs": [
    {
     "name": "stdout",
     "output_type": "stream",
     "text": [
      "['mozzarella', 'Cinderella', 'salmonella']\n"
     ]
    }
   ],
   "execution_count": 2
  },
  {
   "metadata": {},
   "cell_type": "markdown",
   "source": "",
   "id": "7398f99d2f7f9d9b"
  },
  {
   "metadata": {
    "ExecuteTime": {
     "end_time": "2025-03-31T01:48:31.285298Z",
     "start_time": "2025-03-31T01:48:31.282306Z"
    }
   },
   "cell_type": "code",
   "source": [
    "#7.6 Making Cheese\n",
    "things[0] = things[0].upper()\n",
    "print(things)\n"
   ],
   "id": "ba9f55c7d68aaedb",
   "outputs": [
    {
     "name": "stdout",
     "output_type": "stream",
     "text": [
      "['MOZZARELLA', 'Cinderella', 'salmonella']\n"
     ]
    }
   ],
   "execution_count": 3
  },
  {
   "metadata": {},
   "cell_type": "markdown",
   "source": "",
   "id": "c9c34dfa248cfedd"
  },
  {
   "metadata": {
    "ExecuteTime": {
     "end_time": "2025-03-31T01:48:34.820406Z",
     "start_time": "2025-03-31T01:48:34.817655Z"
    }
   },
   "cell_type": "code",
   "source": [
    " # 7.7 Delete disease\n",
    "del things[2]\n",
    "print(things)\n"
   ],
   "id": "20f8108e1645f88d",
   "outputs": [
    {
     "name": "stdout",
     "output_type": "stream",
     "text": [
      "['MOZZARELLA', 'Cinderella']\n"
     ]
    }
   ],
   "execution_count": 4
  }
 ],
 "metadata": {
  "kernelspec": {
   "display_name": "Python 3",
   "language": "python",
   "name": "python3"
  },
  "language_info": {
   "codemirror_mode": {
    "name": "ipython",
    "version": 2
   },
   "file_extension": ".py",
   "mimetype": "text/x-python",
   "name": "python",
   "nbconvert_exporter": "python",
   "pygments_lexer": "ipython2",
   "version": "2.7.6"
  }
 },
 "nbformat": 4,
 "nbformat_minor": 5
}
